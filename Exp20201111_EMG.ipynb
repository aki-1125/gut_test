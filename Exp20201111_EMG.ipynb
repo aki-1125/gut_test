{
 "cells": [
  {
   "cell_type": "code",
   "execution_count": 53,
   "metadata": {},
   "outputs": [],
   "source": [
    "import pandas as pd\n",
    "import time\n",
    "import datetime as dt\n",
    "from datetime import datetime\n",
    "from datetime import datetime, date, time, timedelta\n",
    "import numpy as np\n",
    "from scipy import fftpack\n",
    "from matplotlib import pyplot as plt\n",
    "import math\n",
    "from scipy import stats\n",
    "import statsmodels\n",
    "from pylab import *\n",
    "\n",
    "%matplotlib inline"
   ]
  },
  {
   "cell_type": "code",
   "execution_count": 39,
   "metadata": {},
   "outputs": [],
   "source": [
    "# TSND151\n",
    "\n",
    "# 特徴量の計算の際:dataとなる部分\n",
    "\n",
    "data1_a = pd.read_csv('sensor_data/session1/TSND151/raw_data_time/心筋電/Conv-mem-A心筋-20201111-121748240-ead.csv', encoding=\"shift-jis\")\n",
    "data1_b = pd.read_csv('sensor_data/session1/TSND151/raw_data_time/心筋電/Conv-mem-B心筋-20201111-122303403-ead.csv', encoding=\"shift-jis\")\n",
    "data1_c = pd.read_csv('sensor_data/session1/TSND151/raw_data_time/心筋電/Conv-mem-C心筋-20201111-121748453-ead.csv', encoding=\"shift-jis\")\n",
    "data1_d = pd.read_csv('sensor_data/session1/TSND151/raw_data_time/心筋電/Conv-mem-D心筋-20201111-121748555-ead.csv', encoding=\"shift-jis\")\n",
    "data2_a = pd.read_csv('sensor_data/session2/TSND151/raw_data_time/心筋電/Conv-mem-A心筋-20201111-145808287-ead.csv', encoding=\"shift-jis\")\n",
    "data2_b = pd.read_csv('sensor_data/session2/TSND151/raw_data_time/心筋電/Conv-mem-B心筋-20201111-145741908-ead.csv', encoding=\"shift-jis\")\n",
    "data2_c = pd.read_csv('sensor_data/session2/TSND151/raw_data_time/心筋電/Conv-mem-C心筋-20201111-150032244-ead.csv', encoding=\"shift-jis\")\n",
    "data2_d = pd.read_csv('sensor_data/session2/TSND151/raw_data_time/心筋電/Conv-mem-D心筋-20201111-145749360-ead.csv', encoding=\"shift-jis\")\n",
    "\n",
    "# Anotation_data\n",
    "\n",
    "data1_a_label = pd.read_csv('emotion_label/label/emotion_A_20201111_1.csv')\n",
    "data1_b_label = pd.read_csv('emotion_label/label/emotion_B_20201111_1.csv')\n",
    "data1_c_label = pd.read_csv('emotion_label/label/emotion_C_20201111_1.csv')\n",
    "data1_d_label = pd.read_csv('emotion_label/label/emotion_D_20201111_1.csv')\n",
    "data2_a_label = pd.read_csv('emotion_label/label/emotion_A_20201111_2.csv')\n",
    "data2_b_label = pd.read_csv('emotion_label/label/emotion_B_20201111_2.csv')\n",
    "data2_c_label = pd.read_csv('emotion_label/label/emotion_C_20201111_2.csv')\n",
    "data2_d_label = pd.read_csv('emotion_label/label/emotion_D_20201111_2.csv')"
   ]
  },
  {
   "cell_type": "code",
   "execution_count": 40,
   "metadata": {},
   "outputs": [],
   "source": [
    "# datetime型に変換\n",
    "\n",
    "# sensor_dataは[\"時刻\"]の列がhh:mm:ss.000の書式なのでyyyy-m-d を追加してから変換\n",
    "# anotation_dataは[\"timeHMS\"]の列がyyyy/m/d hh:mm:ssの書式なのでそのまま変換\n",
    "\n",
    "data_list = [data1_a,data1_b,data1_c,data1_d,data2_a,data2_b,data2_c,data2_d]\n",
    "anotation_data_list = [data1_a_label,data1_b_label,data1_c_label,data1_d_label,data2_a_label,data2_b_label,data2_c_label,data2_d_label]\n",
    "\n",
    "for i in range(len(data_list)):\n",
    "    data_list[i][\"時刻\"] = \"2020-11-11 \" + data_list[i][\"時刻\"]\n",
    "    data_list[i]['時刻'] = pd.to_datetime(data_list[i]['時刻'])\n",
    "for i in range(len(anotation_data_list)):\n",
    "    anotation_data_list[i]['timeHMS'] = pd.to_datetime(anotation_data_list[i]['timeHMS'])"
   ]
  },
  {
   "cell_type": "code",
   "execution_count": 41,
   "metadata": {},
   "outputs": [],
   "source": [
    "# anotation_dataの抜き出し(positive,neutral,negative)\n",
    "\n",
    "# .reset_index(drop=True)でindexを振りなおしている(下記のfor文で使いやすくするため)\n",
    "# 特徴量の計算の際:emotion_timesとなる部分\n",
    "\n",
    "positive_times_1a = data1_a_label[\"timeHMS\"][data1_a_label[\"emotion_level\"]>0].reset_index(drop=True)\n",
    "positive_times_1b = data1_b_label[\"timeHMS\"][data1_b_label[\"emotion_level\"]>0].reset_index(drop=True)\n",
    "positive_times_1c = data1_c_label[\"timeHMS\"][data1_c_label[\"emotion_level\"]>0].reset_index(drop=True)\n",
    "positive_times_1d = data1_d_label[\"timeHMS\"][data1_d_label[\"emotion_level\"]>0].reset_index(drop=True)\n",
    "positive_times_2a = data2_a_label[\"timeHMS\"][data2_a_label[\"emotion_level\"]>0].reset_index(drop=True)\n",
    "positive_times_2b = data2_b_label[\"timeHMS\"][data2_b_label[\"emotion_level\"]>0].reset_index(drop=True)\n",
    "positive_times_2c = data2_c_label[\"timeHMS\"][data2_c_label[\"emotion_level\"]>0].reset_index(drop=True)\n",
    "positive_times_2d = data2_d_label[\"timeHMS\"][data2_d_label[\"emotion_level\"]>0].reset_index(drop=True)\n",
    "\n",
    "neutral_times_1a = data1_a_label[\"timeHMS\"][data1_a_label[\"emotion_level\"]==0].reset_index(drop=True)\n",
    "neutral_times_1b = data1_b_label[\"timeHMS\"][data1_b_label[\"emotion_level\"]==0].reset_index(drop=True)\n",
    "neutral_times_1c = data1_c_label[\"timeHMS\"][data1_c_label[\"emotion_level\"]==0].reset_index(drop=True)\n",
    "neutral_times_1d = data1_d_label[\"timeHMS\"][data1_d_label[\"emotion_level\"]==0].reset_index(drop=True)\n",
    "neutral_times_2a = data2_a_label[\"timeHMS\"][data2_a_label[\"emotion_level\"]==0].reset_index(drop=True)\n",
    "neutral_times_2b = data2_b_label[\"timeHMS\"][data2_b_label[\"emotion_level\"]==0].reset_index(drop=True)\n",
    "neutral_times_2c = data2_c_label[\"timeHMS\"][data2_c_label[\"emotion_level\"]==0].reset_index(drop=True)\n",
    "neutral_times_2d = data2_d_label[\"timeHMS\"][data2_d_label[\"emotion_level\"]==0].reset_index(drop=True)\n",
    "\n",
    "negative_times_1a = data1_a_label[\"timeHMS\"][data1_a_label[\"emotion_level\"]<0].reset_index(drop=True)\n",
    "negative_times_1b = data1_b_label[\"timeHMS\"][data1_b_label[\"emotion_level\"]<0].reset_index(drop=True)\n",
    "negative_times_1c = data1_c_label[\"timeHMS\"][data1_c_label[\"emotion_level\"]<0].reset_index(drop=True)\n",
    "negative_times_1d = data1_d_label[\"timeHMS\"][data1_d_label[\"emotion_level\"]<0].reset_index(drop=True)\n",
    "negative_times_2a = data2_a_label[\"timeHMS\"][data2_a_label[\"emotion_level\"]<0].reset_index(drop=True)\n",
    "negative_times_2b = data2_b_label[\"timeHMS\"][data2_b_label[\"emotion_level\"]<0].reset_index(drop=True)\n",
    "negative_times_2c = data2_c_label[\"timeHMS\"][data2_c_label[\"emotion_level\"]<0].reset_index(drop=True)\n",
    "negative_times_2d = data2_d_label[\"timeHMS\"][data2_d_label[\"emotion_level\"]<0].reset_index(drop=True)"
   ]
  },
  {
   "cell_type": "code",
   "execution_count": 42,
   "metadata": {},
   "outputs": [],
   "source": [
    "def EMG(data):\n",
    "    sum_x = np.sum(data['整流化'])\n",
    "    return sum_x"
   ]
  },
  {
   "cell_type": "code",
   "execution_count": 43,
   "metadata": {},
   "outputs": [],
   "source": [
    "def VLF(data):\n",
    "    x = data['整流化'].values.flatten()\n",
    "    fs = 1000\n",
    "    n = len(data)\n",
    "    fft = fftpack.fftfreq(n,1/fs)\n",
    "    spectrum = np.abs(fftpack.fft(x))\n",
    "    \n",
    "    a = pd.DataFrame(fft)\n",
    "    a.rename(columns={0: 'freq'},inplace = True)\n",
    "    b = pd.DataFrame(spectrum)\n",
    "    b.rename(columns={0: 'inten'},inplace = True)\n",
    "    result = pd.concat([a,b],axis = 1)\n",
    "    #result.to_csv(\"result.csv\",encoding = \"SHIFT_JIS\")\n",
    "    result = result.set_index('freq')\n",
    "    VLF = result.loc[10:169]\n",
    "    sumVLF = 0\n",
    "    for data in VLF.inten:\n",
    "        sumVLF += data\n",
    "    return sumVLF"
   ]
  },
  {
   "cell_type": "code",
   "execution_count": 44,
   "metadata": {},
   "outputs": [],
   "source": [
    "def LF(data):\n",
    "    x = data['整流化'].values.flatten()\n",
    "    fs = 1000\n",
    "    n = len(data)\n",
    "    fft = fftpack.fftfreq(n,1/fs)\n",
    "    spectrum = np.abs(fftpack.fft(x))\n",
    "    \n",
    "    a = pd.DataFrame(fft)\n",
    "    a.rename(columns={0: 'freq'},inplace = True)\n",
    "    b = pd.DataFrame(spectrum)\n",
    "    b.rename(columns={0: 'inten'},inplace = True)\n",
    "    result = pd.concat([a,b],axis = 1)\n",
    "    #result.to_csv(\"result.csv\",encoding = \"SHIFT_JIS\")\n",
    "    result = result.set_index('freq')\n",
    "    LF = result.loc[170:200]\n",
    "    sumLF = 0\n",
    "    for data in LF.inten:\n",
    "        sumLF += data\n",
    "    return sumLF"
   ]
  },
  {
   "cell_type": "code",
   "execution_count": 45,
   "metadata": {},
   "outputs": [],
   "source": [
    "def HF1(data):\n",
    "    x = data['整流化'].values.flatten()\n",
    "    fs = 1000\n",
    "    n = len(data)\n",
    "    fft = fftpack.fftfreq(n,1/fs)\n",
    "    spectrum = np.abs(fftpack.fft(x))\n",
    "    \n",
    "    a = pd.DataFrame(fft)\n",
    "    a.rename(columns={0: 'freq'},inplace = True)\n",
    "    b = pd.DataFrame(spectrum)\n",
    "    b.rename(columns={0: 'inten'},inplace = True)\n",
    "    result = pd.concat([a,b],axis = 1)\n",
    "    #result.to_csv(\"result.csv\",encoding = \"SHIFT_JIS\")\n",
    "    result = result.set_index('freq')\n",
    "    HF1 = result.loc[211:300]\n",
    "    sumHF1 = 0\n",
    "    for data in HF1.inten:\n",
    "        sumHF1 += data\n",
    "    return sumHF1"
   ]
  },
  {
   "cell_type": "code",
   "execution_count": 46,
   "metadata": {},
   "outputs": [],
   "source": [
    "def HF2(data):\n",
    "    x = data['整流化'].values.flatten()\n",
    "    fs = 1000\n",
    "    n = len(data)\n",
    "    fft = fftpack.fftfreq(n,1/fs)\n",
    "    spectrum = np.abs(fftpack.fft(x))\n",
    "    \n",
    "    a = pd.DataFrame(fft)\n",
    "    a.rename(columns={0: 'freq'},inplace = True)\n",
    "    b = pd.DataFrame(spectrum)\n",
    "    b.rename(columns={0: 'inten'},inplace = True)\n",
    "    result = pd.concat([a,b],axis = 1)\n",
    "    #result.to_csv(\"result.csv\",encoding = \"SHIFT_JIS\")\n",
    "    result = result.set_index('freq')\n",
    "    HF2 = result.loc[211:350]\n",
    "    sumHF2 = 0\n",
    "    for data in HF2.inten:\n",
    "        sumHF2 += data\n",
    "    return sumHF2"
   ]
  },
  {
   "cell_type": "code",
   "execution_count": 47,
   "metadata": {},
   "outputs": [],
   "source": [
    "def HF3(data):\n",
    "    x = data['整流化'].values.flatten()\n",
    "    fs = 1000\n",
    "    n = len(data)\n",
    "    fft = fftpack.fftfreq(n,1/fs)\n",
    "    spectrum = np.abs(fftpack.fft(x))\n",
    "    \n",
    "    a = pd.DataFrame(fft)\n",
    "    a.rename(columns={0: 'freq'},inplace = True)\n",
    "    b = pd.DataFrame(spectrum)\n",
    "    b.rename(columns={0: 'inten'},inplace = True)\n",
    "    result = pd.concat([a,b],axis = 1)\n",
    "    #result.to_csv(\"result.csv\",encoding = \"SHIFT_JIS\")\n",
    "    result = result.set_index('freq')\n",
    "    HF3 = result.loc[211:400]\n",
    "    sumHF3 = 0\n",
    "    for data in HF3.inten:\n",
    "        sumHF3 += data\n",
    "    return sumHF3"
   ]
  },
  {
   "cell_type": "code",
   "execution_count": 48,
   "metadata": {},
   "outputs": [],
   "source": [
    "def HF4(data):\n",
    "    x = data['整流化'].values.flatten()\n",
    "    fs = 1000\n",
    "    n = len(data)\n",
    "    fft = fftpack.fftfreq(n,1/fs)\n",
    "    spectrum = np.abs(fftpack.fft(x))\n",
    "    \n",
    "    a = pd.DataFrame(fft)\n",
    "    a.rename(columns={0: 'freq'},inplace = True)\n",
    "    b = pd.DataFrame(spectrum)\n",
    "    b.rename(columns={0: 'inten'},inplace = True)\n",
    "    result = pd.concat([a,b],axis = 1)\n",
    "    #result.to_csv(\"result.csv\",encoding = \"SHIFT_JIS\")\n",
    "    result = result.set_index('freq')\n",
    "    HF4 = result.loc[211:450]\n",
    "    sumHF4 = 0\n",
    "    for data in HF4.inten:\n",
    "        sumHF4 += data\n",
    "    return sumHF4"
   ]
  },
  {
   "cell_type": "code",
   "execution_count": 49,
   "metadata": {},
   "outputs": [],
   "source": [
    "def HF5(data):\n",
    "    x = data['整流化'].values.flatten()\n",
    "    fs = 1000\n",
    "    n = len(data)\n",
    "    fft = fftpack.fftfreq(n,1/fs)\n",
    "    spectrum = np.abs(fftpack.fft(x))\n",
    "    \n",
    "    a = pd.DataFrame(fft)\n",
    "    a.rename(columns={0: 'freq'},inplace = True)\n",
    "    b = pd.DataFrame(spectrum)\n",
    "    b.rename(columns={0: 'inten'},inplace = True)\n",
    "    result = pd.concat([a,b],axis = 1)\n",
    "    #result.to_csv(\"result.csv\",encoding = \"SHIFT_JIS\")\n",
    "    result = result.set_index('freq')\n",
    "    HF5 = result.loc[211:499]\n",
    "    sumHF5 = 0\n",
    "    for data in HF5.inten:\n",
    "        sumHF5 += data\n",
    "    return sumHF5"
   ]
  },
  {
   "cell_type": "code",
   "execution_count": 55,
   "metadata": {},
   "outputs": [],
   "source": [
    "# 特徴量算出(時間指定～計算)\n",
    "\n",
    "# data:sensor_dataのこと(ex,data_1a)\n",
    "# emotion_times:positive,neutral,negatiiveのいずれかだけを抽出した時間データのこと(ex,positive_times_1a)  \n",
    "# calculation_data:特徴量の計算方法の関数名のこと(ex,mean_acc_x_axis)\n",
    "\n",
    "def Feature_Extraction(data,emotion_times,calculation_method):\n",
    "    st = 4 # アノテーションのラベルからスタートまでの経過時間:start time\n",
    "    et = 5 # 経過時間(s):elapsed time\n",
    "    features_list = []\n",
    "    for i in range(len(emotion_times)):\n",
    "        dataX = data[(data[\"時刻\"]>=(emotion_times[i]+dt.timedelta(seconds = st)))&(data[\"時刻\"]<(emotion_times[i]+dt.timedelta(seconds = st + et)))]\n",
    "        features = calculation_method(dataX)\n",
    "        features_list.append(features)\n",
    "    return(features_list)"
   ]
  },
  {
   "cell_type": "code",
   "execution_count": 51,
   "metadata": {},
   "outputs": [],
   "source": [
    "# 特徴量計算(リストの合体)\n",
    "\n",
    "def result_features(calculation_method):\n",
    "    positive_1a = Feature_Extraction(data1_a,positive_times_1a,calculation_method)\n",
    "    positive_1b = Feature_Extraction(data1_b,positive_times_1b,calculation_method)\n",
    "    positive_1c = Feature_Extraction(data1_c,positive_times_1c,calculation_method)\n",
    "    positive_1d = Feature_Extraction(data1_d,positive_times_1d,calculation_method)\n",
    "    positive_2a = Feature_Extraction(data2_a,positive_times_2a,calculation_method)\n",
    "    positive_2b = Feature_Extraction(data2_b,positive_times_2b,calculation_method)\n",
    "    positive_2c = Feature_Extraction(data2_c,positive_times_2c,calculation_method)\n",
    "    positive_2d = Feature_Extraction(data2_d,positive_times_2d,calculation_method)\n",
    "    \n",
    "    neutral_1a = Feature_Extraction(data1_a,neutral_times_1a,calculation_method)\n",
    "    neutral_1b = Feature_Extraction(data1_b,neutral_times_1b,calculation_method)\n",
    "    neutral_1c = Feature_Extraction(data1_c,neutral_times_1c,calculation_method)\n",
    "    neutral_1d = Feature_Extraction(data1_d,neutral_times_1d,calculation_method)\n",
    "    neutral_2a = Feature_Extraction(data2_a,neutral_times_2a,calculation_method)\n",
    "    neutral_2b = Feature_Extraction(data2_b,neutral_times_2b,calculation_method)\n",
    "    neutral_2c = Feature_Extraction(data2_c,neutral_times_2c,calculation_method)\n",
    "    neutral_2d = Feature_Extraction(data2_d,neutral_times_2d,calculation_method)\n",
    "    \n",
    "    negative_1a = Feature_Extraction(data1_a,negative_times_1a,calculation_method)\n",
    "    negative_1b = Feature_Extraction(data1_b,negative_times_1b,calculation_method)\n",
    "    negative_1c = Feature_Extraction(data1_c,negative_times_1c,calculation_method)\n",
    "    negative_1d = Feature_Extraction(data1_d,negative_times_1d,calculation_method)\n",
    "    negative_2a = Feature_Extraction(data2_a,negative_times_2a,calculation_method)\n",
    "    negative_2b = Feature_Extraction(data2_b,negative_times_2b,calculation_method)\n",
    "    negative_2c = Feature_Extraction(data2_c,negative_times_2c,calculation_method)\n",
    "    negative_2d = Feature_Extraction(data2_d,negative_times_2d,calculation_method)\n",
    "    \n",
    "    positive_list = positive_1a + positive_1b + positive_1c + positive_1d + positive_2a + positive_2b + positive_2c + positive_2d \n",
    "    neutral_list = neutral_1a + neutral_1b + neutral_1c + neutral_1d + neutral_2a + neutral_2b + neutral_2c + neutral_2d \n",
    "    negative_list = negative_1a + negative_1b + negative_1c + negative_1d + negative_2a + negative_2b + negative_2c + negative_2d \n",
    "    \n",
    "    return positive_list,neutral_list,negative_list"
   ]
  },
  {
   "cell_type": "code",
   "execution_count": 56,
   "metadata": {},
   "outputs": [
    {
     "ename": "KeyError",
     "evalue": "'整流化'",
     "output_type": "error",
     "traceback": [
      "\u001b[0;31m---------------------------------------------------------------------------\u001b[0m",
      "\u001b[0;31mKeyError\u001b[0m                                  Traceback (most recent call last)",
      "\u001b[0;32m~/anaconda3/lib/python3.8/site-packages/pandas/core/indexes/base.py\u001b[0m in \u001b[0;36mget_loc\u001b[0;34m(self, key, method, tolerance)\u001b[0m\n\u001b[1;32m   3079\u001b[0m             \u001b[0;32mtry\u001b[0m\u001b[0;34m:\u001b[0m\u001b[0;34m\u001b[0m\u001b[0;34m\u001b[0m\u001b[0m\n\u001b[0;32m-> 3080\u001b[0;31m                 \u001b[0;32mreturn\u001b[0m \u001b[0mself\u001b[0m\u001b[0;34m.\u001b[0m\u001b[0m_engine\u001b[0m\u001b[0;34m.\u001b[0m\u001b[0mget_loc\u001b[0m\u001b[0;34m(\u001b[0m\u001b[0mcasted_key\u001b[0m\u001b[0;34m)\u001b[0m\u001b[0;34m\u001b[0m\u001b[0;34m\u001b[0m\u001b[0m\n\u001b[0m\u001b[1;32m   3081\u001b[0m             \u001b[0;32mexcept\u001b[0m \u001b[0mKeyError\u001b[0m \u001b[0;32mas\u001b[0m \u001b[0merr\u001b[0m\u001b[0;34m:\u001b[0m\u001b[0;34m\u001b[0m\u001b[0;34m\u001b[0m\u001b[0m\n",
      "\u001b[0;32mpandas/_libs/index.pyx\u001b[0m in \u001b[0;36mpandas._libs.index.IndexEngine.get_loc\u001b[0;34m()\u001b[0m\n",
      "\u001b[0;32mpandas/_libs/index.pyx\u001b[0m in \u001b[0;36mpandas._libs.index.IndexEngine.get_loc\u001b[0;34m()\u001b[0m\n",
      "\u001b[0;32mpandas/_libs/hashtable_class_helper.pxi\u001b[0m in \u001b[0;36mpandas._libs.hashtable.PyObjectHashTable.get_item\u001b[0;34m()\u001b[0m\n",
      "\u001b[0;32mpandas/_libs/hashtable_class_helper.pxi\u001b[0m in \u001b[0;36mpandas._libs.hashtable.PyObjectHashTable.get_item\u001b[0;34m()\u001b[0m\n",
      "\u001b[0;31mKeyError\u001b[0m: '整流化'",
      "\nThe above exception was the direct cause of the following exception:\n",
      "\u001b[0;31mKeyError\u001b[0m                                  Traceback (most recent call last)",
      "\u001b[0;32m<ipython-input-56-c34f7db76f33>\u001b[0m in \u001b[0;36m<module>\u001b[0;34m\u001b[0m\n\u001b[1;32m      1\u001b[0m \u001b[0;32mfrom\u001b[0m \u001b[0mdtw\u001b[0m \u001b[0;32mimport\u001b[0m \u001b[0mdtw\u001b[0m\u001b[0;34m\u001b[0m\u001b[0;34m\u001b[0m\u001b[0m\n\u001b[1;32m      2\u001b[0m \u001b[0;34m\u001b[0m\u001b[0m\n\u001b[0;32m----> 3\u001b[0;31m \u001b[0mpositive_list\u001b[0m\u001b[0;34m,\u001b[0m\u001b[0mneutral_list\u001b[0m\u001b[0;34m,\u001b[0m\u001b[0mnegative_list\u001b[0m \u001b[0;34m=\u001b[0m \u001b[0mresult_features\u001b[0m\u001b[0;34m(\u001b[0m\u001b[0mEMG\u001b[0m\u001b[0;34m)\u001b[0m\u001b[0;34m\u001b[0m\u001b[0;34m\u001b[0m\u001b[0m\n\u001b[0m\u001b[1;32m      4\u001b[0m \u001b[0;31m# positive_list,neutral_list,negative_list = result_features(VLF)\u001b[0m\u001b[0;34m\u001b[0m\u001b[0;34m\u001b[0m\u001b[0;34m\u001b[0m\u001b[0m\n\u001b[1;32m      5\u001b[0m \u001b[0;31m#positive_list,neutral_list,negative_list = result_features(LF)\u001b[0m\u001b[0;34m\u001b[0m\u001b[0;34m\u001b[0m\u001b[0;34m\u001b[0m\u001b[0m\n",
      "\u001b[0;32m<ipython-input-51-d9ade1fae950>\u001b[0m in \u001b[0;36mresult_features\u001b[0;34m(calculation_method)\u001b[0m\n\u001b[1;32m      2\u001b[0m \u001b[0;34m\u001b[0m\u001b[0m\n\u001b[1;32m      3\u001b[0m \u001b[0;32mdef\u001b[0m \u001b[0mresult_features\u001b[0m\u001b[0;34m(\u001b[0m\u001b[0mcalculation_method\u001b[0m\u001b[0;34m)\u001b[0m\u001b[0;34m:\u001b[0m\u001b[0;34m\u001b[0m\u001b[0;34m\u001b[0m\u001b[0m\n\u001b[0;32m----> 4\u001b[0;31m     \u001b[0mpositive_1a\u001b[0m \u001b[0;34m=\u001b[0m \u001b[0mFeature_Extraction\u001b[0m\u001b[0;34m(\u001b[0m\u001b[0mdata1_a\u001b[0m\u001b[0;34m,\u001b[0m\u001b[0mpositive_times_1a\u001b[0m\u001b[0;34m,\u001b[0m\u001b[0mcalculation_method\u001b[0m\u001b[0;34m)\u001b[0m\u001b[0;34m\u001b[0m\u001b[0;34m\u001b[0m\u001b[0m\n\u001b[0m\u001b[1;32m      5\u001b[0m     \u001b[0mpositive_1b\u001b[0m \u001b[0;34m=\u001b[0m \u001b[0mFeature_Extraction\u001b[0m\u001b[0;34m(\u001b[0m\u001b[0mdata1_b\u001b[0m\u001b[0;34m,\u001b[0m\u001b[0mpositive_times_1b\u001b[0m\u001b[0;34m,\u001b[0m\u001b[0mcalculation_method\u001b[0m\u001b[0;34m)\u001b[0m\u001b[0;34m\u001b[0m\u001b[0;34m\u001b[0m\u001b[0m\n\u001b[1;32m      6\u001b[0m     \u001b[0mpositive_1c\u001b[0m \u001b[0;34m=\u001b[0m \u001b[0mFeature_Extraction\u001b[0m\u001b[0;34m(\u001b[0m\u001b[0mdata1_c\u001b[0m\u001b[0;34m,\u001b[0m\u001b[0mpositive_times_1c\u001b[0m\u001b[0;34m,\u001b[0m\u001b[0mcalculation_method\u001b[0m\u001b[0;34m)\u001b[0m\u001b[0;34m\u001b[0m\u001b[0;34m\u001b[0m\u001b[0m\n",
      "\u001b[0;32m<ipython-input-55-8756e84ac0ec>\u001b[0m in \u001b[0;36mFeature_Extraction\u001b[0;34m(data, emotion_times, calculation_method)\u001b[0m\n\u001b[1;32m     11\u001b[0m     \u001b[0;32mfor\u001b[0m \u001b[0mi\u001b[0m \u001b[0;32min\u001b[0m \u001b[0mrange\u001b[0m\u001b[0;34m(\u001b[0m\u001b[0mlen\u001b[0m\u001b[0;34m(\u001b[0m\u001b[0memotion_times\u001b[0m\u001b[0;34m)\u001b[0m\u001b[0;34m)\u001b[0m\u001b[0;34m:\u001b[0m\u001b[0;34m\u001b[0m\u001b[0;34m\u001b[0m\u001b[0m\n\u001b[1;32m     12\u001b[0m         \u001b[0mdataX\u001b[0m \u001b[0;34m=\u001b[0m \u001b[0mdata\u001b[0m\u001b[0;34m[\u001b[0m\u001b[0;34m(\u001b[0m\u001b[0mdata\u001b[0m\u001b[0;34m[\u001b[0m\u001b[0;34m\"時刻\"\u001b[0m\u001b[0;34m]\u001b[0m\u001b[0;34m>=\u001b[0m\u001b[0;34m(\u001b[0m\u001b[0memotion_times\u001b[0m\u001b[0;34m[\u001b[0m\u001b[0mi\u001b[0m\u001b[0;34m]\u001b[0m\u001b[0;34m+\u001b[0m\u001b[0mdt\u001b[0m\u001b[0;34m.\u001b[0m\u001b[0mtimedelta\u001b[0m\u001b[0;34m(\u001b[0m\u001b[0mseconds\u001b[0m \u001b[0;34m=\u001b[0m \u001b[0mst\u001b[0m\u001b[0;34m)\u001b[0m\u001b[0;34m)\u001b[0m\u001b[0;34m)\u001b[0m\u001b[0;34m&\u001b[0m\u001b[0;34m(\u001b[0m\u001b[0mdata\u001b[0m\u001b[0;34m[\u001b[0m\u001b[0;34m\"時刻\"\u001b[0m\u001b[0;34m]\u001b[0m\u001b[0;34m<\u001b[0m\u001b[0;34m(\u001b[0m\u001b[0memotion_times\u001b[0m\u001b[0;34m[\u001b[0m\u001b[0mi\u001b[0m\u001b[0;34m]\u001b[0m\u001b[0;34m+\u001b[0m\u001b[0mdt\u001b[0m\u001b[0;34m.\u001b[0m\u001b[0mtimedelta\u001b[0m\u001b[0;34m(\u001b[0m\u001b[0mseconds\u001b[0m \u001b[0;34m=\u001b[0m \u001b[0mst\u001b[0m \u001b[0;34m+\u001b[0m \u001b[0met\u001b[0m\u001b[0;34m)\u001b[0m\u001b[0;34m)\u001b[0m\u001b[0;34m)\u001b[0m\u001b[0;34m]\u001b[0m\u001b[0;34m\u001b[0m\u001b[0;34m\u001b[0m\u001b[0m\n\u001b[0;32m---> 13\u001b[0;31m         \u001b[0mfeatures\u001b[0m \u001b[0;34m=\u001b[0m \u001b[0mcalculation_method\u001b[0m\u001b[0;34m(\u001b[0m\u001b[0mdataX\u001b[0m\u001b[0;34m)\u001b[0m\u001b[0;34m\u001b[0m\u001b[0;34m\u001b[0m\u001b[0m\n\u001b[0m\u001b[1;32m     14\u001b[0m         \u001b[0mfeatures_list\u001b[0m\u001b[0;34m.\u001b[0m\u001b[0mappend\u001b[0m\u001b[0;34m(\u001b[0m\u001b[0mfeatures\u001b[0m\u001b[0;34m)\u001b[0m\u001b[0;34m\u001b[0m\u001b[0;34m\u001b[0m\u001b[0m\n\u001b[1;32m     15\u001b[0m     \u001b[0;32mreturn\u001b[0m\u001b[0;34m(\u001b[0m\u001b[0mfeatures_list\u001b[0m\u001b[0;34m)\u001b[0m\u001b[0;34m\u001b[0m\u001b[0;34m\u001b[0m\u001b[0m\n",
      "\u001b[0;32m<ipython-input-42-e9ca696500fe>\u001b[0m in \u001b[0;36mEMG\u001b[0;34m(data)\u001b[0m\n\u001b[1;32m      1\u001b[0m \u001b[0;32mdef\u001b[0m \u001b[0mEMG\u001b[0m\u001b[0;34m(\u001b[0m\u001b[0mdata\u001b[0m\u001b[0;34m)\u001b[0m\u001b[0;34m:\u001b[0m\u001b[0;34m\u001b[0m\u001b[0;34m\u001b[0m\u001b[0m\n\u001b[0;32m----> 2\u001b[0;31m     \u001b[0msum_x\u001b[0m \u001b[0;34m=\u001b[0m \u001b[0mnp\u001b[0m\u001b[0;34m.\u001b[0m\u001b[0msum\u001b[0m\u001b[0;34m(\u001b[0m\u001b[0mdata\u001b[0m\u001b[0;34m[\u001b[0m\u001b[0;34m'整流化'\u001b[0m\u001b[0;34m]\u001b[0m\u001b[0;34m)\u001b[0m\u001b[0;34m\u001b[0m\u001b[0;34m\u001b[0m\u001b[0m\n\u001b[0m\u001b[1;32m      3\u001b[0m     \u001b[0;32mreturn\u001b[0m \u001b[0msum_x\u001b[0m\u001b[0;34m\u001b[0m\u001b[0;34m\u001b[0m\u001b[0m\n",
      "\u001b[0;32m~/anaconda3/lib/python3.8/site-packages/pandas/core/frame.py\u001b[0m in \u001b[0;36m__getitem__\u001b[0;34m(self, key)\u001b[0m\n\u001b[1;32m   3022\u001b[0m             \u001b[0;32mif\u001b[0m \u001b[0mself\u001b[0m\u001b[0;34m.\u001b[0m\u001b[0mcolumns\u001b[0m\u001b[0;34m.\u001b[0m\u001b[0mnlevels\u001b[0m \u001b[0;34m>\u001b[0m \u001b[0;36m1\u001b[0m\u001b[0;34m:\u001b[0m\u001b[0;34m\u001b[0m\u001b[0;34m\u001b[0m\u001b[0m\n\u001b[1;32m   3023\u001b[0m                 \u001b[0;32mreturn\u001b[0m \u001b[0mself\u001b[0m\u001b[0;34m.\u001b[0m\u001b[0m_getitem_multilevel\u001b[0m\u001b[0;34m(\u001b[0m\u001b[0mkey\u001b[0m\u001b[0;34m)\u001b[0m\u001b[0;34m\u001b[0m\u001b[0;34m\u001b[0m\u001b[0m\n\u001b[0;32m-> 3024\u001b[0;31m             \u001b[0mindexer\u001b[0m \u001b[0;34m=\u001b[0m \u001b[0mself\u001b[0m\u001b[0;34m.\u001b[0m\u001b[0mcolumns\u001b[0m\u001b[0;34m.\u001b[0m\u001b[0mget_loc\u001b[0m\u001b[0;34m(\u001b[0m\u001b[0mkey\u001b[0m\u001b[0;34m)\u001b[0m\u001b[0;34m\u001b[0m\u001b[0;34m\u001b[0m\u001b[0m\n\u001b[0m\u001b[1;32m   3025\u001b[0m             \u001b[0;32mif\u001b[0m \u001b[0mis_integer\u001b[0m\u001b[0;34m(\u001b[0m\u001b[0mindexer\u001b[0m\u001b[0;34m)\u001b[0m\u001b[0;34m:\u001b[0m\u001b[0;34m\u001b[0m\u001b[0;34m\u001b[0m\u001b[0m\n\u001b[1;32m   3026\u001b[0m                 \u001b[0mindexer\u001b[0m \u001b[0;34m=\u001b[0m \u001b[0;34m[\u001b[0m\u001b[0mindexer\u001b[0m\u001b[0;34m]\u001b[0m\u001b[0;34m\u001b[0m\u001b[0;34m\u001b[0m\u001b[0m\n",
      "\u001b[0;32m~/anaconda3/lib/python3.8/site-packages/pandas/core/indexes/base.py\u001b[0m in \u001b[0;36mget_loc\u001b[0;34m(self, key, method, tolerance)\u001b[0m\n\u001b[1;32m   3080\u001b[0m                 \u001b[0;32mreturn\u001b[0m \u001b[0mself\u001b[0m\u001b[0;34m.\u001b[0m\u001b[0m_engine\u001b[0m\u001b[0;34m.\u001b[0m\u001b[0mget_loc\u001b[0m\u001b[0;34m(\u001b[0m\u001b[0mcasted_key\u001b[0m\u001b[0;34m)\u001b[0m\u001b[0;34m\u001b[0m\u001b[0;34m\u001b[0m\u001b[0m\n\u001b[1;32m   3081\u001b[0m             \u001b[0;32mexcept\u001b[0m \u001b[0mKeyError\u001b[0m \u001b[0;32mas\u001b[0m \u001b[0merr\u001b[0m\u001b[0;34m:\u001b[0m\u001b[0;34m\u001b[0m\u001b[0;34m\u001b[0m\u001b[0m\n\u001b[0;32m-> 3082\u001b[0;31m                 \u001b[0;32mraise\u001b[0m \u001b[0mKeyError\u001b[0m\u001b[0;34m(\u001b[0m\u001b[0mkey\u001b[0m\u001b[0;34m)\u001b[0m \u001b[0;32mfrom\u001b[0m \u001b[0merr\u001b[0m\u001b[0;34m\u001b[0m\u001b[0;34m\u001b[0m\u001b[0m\n\u001b[0m\u001b[1;32m   3083\u001b[0m \u001b[0;34m\u001b[0m\u001b[0m\n\u001b[1;32m   3084\u001b[0m         \u001b[0;32mif\u001b[0m \u001b[0mtolerance\u001b[0m \u001b[0;32mis\u001b[0m \u001b[0;32mnot\u001b[0m \u001b[0;32mNone\u001b[0m\u001b[0;34m:\u001b[0m\u001b[0;34m\u001b[0m\u001b[0;34m\u001b[0m\u001b[0m\n",
      "\u001b[0;31mKeyError\u001b[0m: '整流化'"
     ]
    }
   ],
   "source": [
    "from dtw import dtw\n",
    "\n",
    "positive_list,neutral_list,negative_list = result_features(EMG)\n",
    "# positive_list,neutral_list,negative_list = result_features(VLF)\n",
    "#positive_list,neutral_list,negative_list = result_features(LF)\n",
    "#positive_list,neutral_list,negative_list = result_features(HF1)\n",
    "#positive_list,neutral_list,negative_list = result_features(HF2)\n",
    "#positive_list,neutral_list,negative_list = result_features(HF3)\n",
    "#positive_list,neutral_list,negative_list = result_features(HF4)\n",
    "#positive_list,neutral_list,negative_list = result_features(HF5)\n",
    "#print(negative_list)"
   ]
  },
  {
   "cell_type": "code",
   "execution_count": 15,
   "metadata": {},
   "outputs": [
    {
     "data": {
      "text/plain": [
       "<function matplotlib.pyplot.show(*args, **kw)>"
      ]
     },
     "execution_count": 15,
     "metadata": {},
     "output_type": "execute_result"
    },
    {
     "data": {
      "image/png": "[encoded data removed]",
      "text/plain": [
       "<Figure size 432x288 with 1 Axes>"
      ]
     },
     "metadata": {
      "needs_background": "light"
     },
     "output_type": "display_data"
    }
   ],
   "source": [
    "# 箱ひげ図plot\n",
    "\n",
    "points = (positive_list,neutral_list,negative_list)\n",
    "\n",
    "flg,ax = plt.subplots()\n",
    "\n",
    "# bp = ax.boxplot(points)\n",
    "bp = ax.boxplot(points,notch = True)\n",
    "\n",
    "ax.set_xticklabels(['positive','neutral','negative'])\n",
    "\n",
    "# plt.title('exp20201111_acc_x_axis')\n",
    "plt.xlabel('emotions')\n",
    "plt.ylabel('EMG')\n",
    "# plt.ylabel('gyro')\n",
    "plt.grid()\n",
    "#plt.ylim(0,1500000)\n",
    "plt.show\n",
    "\n",
    "# plt.savefig('exp02_03_emotions(min_gyro_3_axis).png') # plotを保存"
   ]
  },
  {
   "cell_type": "code",
   "execution_count": 64,
   "metadata": {},
   "outputs": [
    {
     "name": "stdout",
     "output_type": "stream",
     "text": [
      "KruskalResult(statistic=2.8357810022517924, pvalue=0.24222445053384178)\n"
     ]
    }
   ],
   "source": [
    "print(stats.kruskal(positive_list,neutral_list,negative_list))"
   ]
  },
  {
   "cell_type": "code",
   "execution_count": 65,
   "metadata": {},
   "outputs": [
    {
     "name": "stdout",
     "output_type": "stream",
     "text": [
      "       Multiple Comparison of Means - Tukey HSD, FWER=0.05        \n",
      "==================================================================\n",
      " group1   group2   meandiff  p-adj     lower       upper    reject\n",
      "------------------------------------------------------------------\n",
      "negative  neutral 44700.5098 0.6979 -90335.2033 179736.2228  False\n",
      "negative positive 48100.3403 0.5872 -68324.6778 164525.3585  False\n",
      " neutral positive  3399.8306    0.9 -77479.4641  84279.1253  False\n",
      "------------------------------------------------------------------\n"
     ]
    }
   ],
   "source": [
    "# 多重比較検定\n",
    "\n",
    "def tukey_hsd( ind, *args ):\n",
    "    from statsmodels.stats.multicomp import pairwise_tukeyhsd\n",
    "    import numpy as np\n",
    "    data_arr = np.hstack( args )\n",
    "    ind_arr = np.array([])\n",
    "    for x in range(len(args)):\n",
    "      ind_arr = np.append(ind_arr, np.repeat(ind[x], len(args[x])))\n",
    "    res = pairwise_tukeyhsd(data_arr,ind_arr)\n",
    "#     print(vars(res))\n",
    "#     print(res.pvalues) #個別のp値が欲しいときはこっちを実行\n",
    "    print(res)\n",
    "\n",
    "tukey_hsd(['positive','neutral','negative'],positive_list,neutral_list,negative_list)"
   ]
  }
 ],
 "metadata": {
  "kernelspec": {
   "display_name": "Python 3",
   "language": "python",
   "name": "python3"
  },
  "language_info": {
   "codemirror_mode": {
    "name": "ipython",
    "version": 3
   },
   "file_extension": ".py",
   "mimetype": "text/x-python",
   "name": "python",
   "nbconvert_exporter": "python",
   "pygments_lexer": "ipython3",
   "version": "3.8.5"
  }
 },
 "nbformat": 4,
 "nbformat_minor": 4
}
